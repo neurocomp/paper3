{
  "cells": [
    {
      "metadata": {
        "id": "_-Hcgo_5nHip",
        "colab_type": "code",
        "outputId": "409d8c32-979c-48e1-8630-960ecaaf0a95",
        "executionInfo": {
          "status": "ok",
          "timestamp": 1555172773145,
          "user_tz": -270,
          "elapsed": 20130,
          "user": {
            "displayName": "R. Azizi",
            "photoUrl": "",
            "userId": "15131496285985135984"
          }
        },
        "colab": {
          "base_uri": "https://localhost:8080/",
          "height": 122
        },
        "trusted": true
      },
      "cell_type": "code",
      "source": "from google.colab import drive\ndrive.mount(\"/content/gdrive/\")",
      "execution_count": null,
      "outputs": []
    },
    {
      "metadata": {
        "id": "-sm6SjkNijQu",
        "colab_type": "code",
        "colab": {},
        "trusted": true
      },
      "cell_type": "code",
      "source": "from pandas import read_csv\nimport itertools as itr\nfrom sklearn.preprocessing import MinMaxScaler\nfrom sklearn.metrics import mean_squared_error, r2_score\nfrom scipy.stats import pearsonr\nimport numpy as np\nimport math\nimport matplotlib.pyplot as plt\n\nrefine = 0\nlook_back = 4\nn_seq = 4\nbatch_size = 8\nepochs = 200\ntimesteps = 4\n\n\n# convert an array of values into a dataset matrix\ndef create_dataset(dataset, look_back=1, n_seq=1):\n\tdataX, dataY = [], []\n\tfor i in range(len(dataset)-look_back-n_seq):\n\t\ta = dataset[i:(i+look_back), :]# 0 is removed\n\t\tdataX.append(a)\n\t\tdataY.append(dataset[(i + look_back):(i + look_back + n_seq), 0])\n\treturn np.array(dataX), np.array(dataY)\n\n\ndef permute_list(param_list, max_permute):    \n    output_list = list()\n    for i in range(max_permute + 1):\n        a = itr.combinations(param_list, i)\n        output_list = output_list + [x for x in a]\n    return [['inf'] + list(x) for x in output_list]\n\n\n\nnames = {'inf':0, 'shum':1, 'evap':2, 'tmp':3, 'tmin':4, 'tmax':5, 'cloud':6, 'wind':7, 'dswrf':8, 'prate':9}\nparam_list = ['shum', 'evap', 'tmp', 'tmin', 'tmax', 'cloud', 'wind', 'dswrf', 'prate']\nperm_list = permute_list(param_list, 3)\n\n\ndataframe = read_csv('./gdrive/My Drive/Colab Notebooks/Tensorflow/Iran/data1.csv', usecols=[3], header=None, engine='python', skipfooter=0)\ndataset = dataframe.values\n\nweek1 = read_csv('./gdrive/My Drive/Colab Notebooks/Tensorflow/Iran/result/200/week1.csv', usecols=range(77), header=None, engine='python', skipfooter=0)\nweek2 = read_csv('./gdrive/My Drive/Colab Notebooks/Tensorflow/Iran/result/200/week2.csv', usecols=range(77), header=None, engine='python', skipfooter=0)\nweek3 = read_csv('./gdrive/My Drive/Colab Notebooks/Tensorflow/Iran/result/200/week3.csv', usecols=range(77), header=None, engine='python', skipfooter=0)\nweek4 = read_csv('./gdrive/My Drive/Colab Notebooks/Tensorflow/Iran/result/200/week4.csv', usecols=range(77), header=None, engine='python', skipfooter=0)\nweek1 = week1.values\nweek2 = week2.values\nweek3 = week3.values\nweek4 = week4.values",
      "execution_count": null,
      "outputs": []
    },
    {
      "metadata": {
        "id": "RNXLlyL_ijQ4",
        "colab_type": "code",
        "outputId": "377aeef4-ca80-492a-9e92-cec05fe9f8c1",
        "executionInfo": {
          "status": "ok",
          "timestamp": 1555172800320,
          "user_tz": -270,
          "elapsed": 1272,
          "user": {
            "displayName": "R. Azizi",
            "photoUrl": "",
            "userId": "15131496285985135984"
          }
        },
        "colab": {
          "base_uri": "https://localhost:8080/",
          "height": 71
        },
        "trusted": true
      },
      "cell_type": "code",
      "source": "input_size = 1\n# split into train and test sets\ntrain_size = int(len(dataset) * 0.80)\ntest_size = len(dataset) - train_size\ntrain, test = dataset[0:train_size,:], dataset[train_size:len(dataset),:]\n\n# normalize the dataset\nscaler = MinMaxScaler(feature_range=(0, 1))\ntrain = scaler.fit_transform(train)\ntest = scaler.transform(test)\n\ntrainX, trainY = create_dataset(train, look_back, n_seq)\ntestX, testY = create_dataset(test, look_back, n_seq)",
      "execution_count": null,
      "outputs": []
    },
    {
      "metadata": {
        "id": "-DDvfQiaijRF",
        "colab_type": "code",
        "colab": {},
        "trusted": true
      },
      "cell_type": "code",
      "source": "final_result = np.stack((week1, week2, week3, week4))\n\ni_start = 0\ntestScore = np.zeros((n_seq, len(perm_list)))\ntestPearsonr = np.zeros((n_seq, len(perm_list)))\ntestPearsonp = np.zeros((n_seq, len(perm_list)))\nfor param in perm_list:\n    for seq1 in range(n_seq):\n        X1 = final_result[seq1,i_start,:]\n        X = X1[38:]\n        Y1 = dataset[(len(train)+look_back+seq1):(len(dataset)-n_seq+seq1-1),0]\n        Y = Y1[38:]\n        testScore[seq1, i_start] = math.sqrt(mean_squared_error(X, Y))\n        r,p = pearsonr(X, Y)\n        testPearsonr[seq1, i_start] = r**2\n        testPearsonp[seq1, i_start] = p\n    i_start = i_start + 1\n",
      "execution_count": null,
      "outputs": []
    },
    {
      "metadata": {
        "id": "QGuTa6oGijRM",
        "colab_type": "code",
        "outputId": "346a4876-6aaf-4a56-ed99-fe1082cd550f",
        "executionInfo": {
          "status": "ok",
          "timestamp": 1555172814831,
          "user_tz": -270,
          "elapsed": 1767,
          "user": {
            "displayName": "R. Azizi",
            "photoUrl": "",
            "userId": "15131496285985135984"
          }
        },
        "colab": {
          "base_uri": "https://localhost:8080/",
          "height": 887
        },
        "trusted": true
      },
      "cell_type": "code",
      "source": "X0 = np.arange(len(perm_list))\nX1 = testScore\nZ0 = np.ones((len(perm_list),1)) * 18.0\nmins = X1.min(0)\nmaxs = X1.max(0)\nmeans = X1.mean(0)\nstd = X1.std(0)\n\n\nind_mean = np.argsort(means)\nls_mean = [x for x in ind_mean]\nmodel_mean = [(perm_list[x], means[x],X1[:,x],testPearsonr[:,x]) for x in ls_mean]\n\n\nind_week1 = np.argsort(X1[0,:])\nls_week1 = [x for x in ind_week1]\nmodel_week1 = [(perm_list[x], X1[:,x],testPearsonr[:,x]) for x in ls_week1]\n\nind_week2 = np.argsort(X1[1,:])\nls_week2 = [x for x in ind_week2]\nmodel_week2 = [(perm_list[x], X1[:,x],testPearsonr[:,x]) for x in ls_week2]\n\nind_week3 = np.argsort(X1[2,:])\nls_week3 = [x for x in ind_week3]\nmodel_week3 = [(perm_list[x], X1[:,x],testPearsonr[:,x]) for x in ls_week3]\n\nind_week4 = np.argsort(X1[3,:])\nls_week4 = [x for x in ind_week4]\nmodel_week4 = [(perm_list[x], X1[:,x],testPearsonr[:,x]) for x in ls_week4]\n\n\n\n\nplt.figure(figsize=(20,15))\n(_, caps, _) = plt.errorbar(X0, means[ind_mean], std[ind_mean], fmt='ok', markersize=5, capsize=5, lw=3)\nfor cap in caps:\n    cap.set_color('red')\n    cap.set_markeredgewidth(2)\nplt.plot(X0, Z0, '--', color='blue', lw=1)\nplt.xlim((-.5,131))\nplt.errorbar(X0, means[ind_mean], [means[ind_mean] - mins[ind_mean], maxs[ind_mean] - means[ind_mean]], fmt='.k', color='gray', lw=1)\nplt.ylim(5,55)\nplt.show()",
      "execution_count": null,
      "outputs": []
    },
    {
      "metadata": {
        "id": "sTDwuM0aijRT",
        "colab_type": "code",
        "outputId": "1ede3988-2d19-42a7-99f5-561d9adb6d9a",
        "executionInfo": {
          "status": "ok",
          "timestamp": 1555174704539,
          "user_tz": -270,
          "elapsed": 2539,
          "user": {
            "displayName": "R. Azizi",
            "photoUrl": "",
            "userId": "15131496285985135984"
          }
        },
        "colab": {
          "base_uri": "https://localhost:8080/",
          "height": 585
        },
        "trusted": true
      },
      "cell_type": "code",
      "source": "weekNum = ['one', 'two', 'three', 'four']\nweekLabel = ['A)', 'B)', 'C)', 'D)']\ncsfont = {'fontname': 'Times New Roman'}\n#fig = plt.subplots(2,2, figsize=(10,10))\nfig = plt.figure(figsize=(20,4))\nfor seq1 in range(4):\n    X = final_result[seq1,ind_week1[0],38:]\n    Y1 = dataset[(len(train)+look_back+seq1):(len(dataset)-n_seq+seq1-1),0]\n    Y = Y1[38:]\n    RMSE = math.sqrt(mean_squared_error(X, Y))\n    Z = np.reshape(Y,(1,len(Y)))[0]\n    r,p = pearsonr(X,Z)\n    abs1 = np.abs(Y-X)\n    \n    sse = np.sum((Y-X)**2)\n    k = 10244\n    n = len(X)\n    AIC =  - 2*math.log(sse) #+ 2*k\n    BIC = n*math.log(sse/n) #+ k*math.log(n)\n    print('Test Score: RMSE=%.2f r=%.2f p=%.2f' % (RMSE, r**2, p))\n    weekStr = ' weeks'\n    if seq1 ==0 :\n        weekStr = ' week'\n    ax= fig.add_subplot(1, 4, seq1 + 1)\n    titleName = ''.join([weekLabel[seq1],' Predictions for ', weekNum[seq1], weekStr, ' ahead'])\n    if seq1 == 0:\n        xlabel = 'Predictions'\n    ylabel = 'Observations'\n    \n    plt.grid(True)\n    plt.rc('grid', linestyle=\"--\", color='lightgray')\n    plt.subplot(1, 4, seq1+1)\n    plt.plot(X,'-', markersize=8, color='red', linewidth=2.5, label= xlabel)\n    plt.plot(Y, marker='s', markerfacecolor='blue', markersize=7, color='skyblue', linewidth=0, label=ylabel)\n    plt.xlabel('Time[week]', fontsize=12, **csfont)\n    plt.ylabel('Number of Incidents', fontsize=12, **csfont)\n    plt.legend(loc='upper left')\n    plt.title(titleName, fontsize=13, **csfont)\n    \n    ax = plt.gca()\n    ax.xaxis.set_label_coords(.5, -0.07)\n    ax.yaxis.set_label_coords(-0.088, .5)\n\n\n\nplt.show()\nfig.savefig('./gdrive/My Drive/Colab Notebooks/Tensorflow/Iran/fig/model1_week1.pdf', format='pdf', dpi=500)",
      "execution_count": null,
      "outputs": []
    },
    {
      "metadata": {
        "id": "QN12OWj3rFw3",
        "colab_type": "code",
        "outputId": "fcbc1fd8-f47e-4d4f-b80b-2fc7e17e18b8",
        "executionInfo": {
          "status": "ok",
          "timestamp": 1555175397820,
          "user_tz": -270,
          "elapsed": 2121,
          "user": {
            "displayName": "R. Azizi",
            "photoUrl": "",
            "userId": "15131496285985135984"
          }
        },
        "colab": {
          "base_uri": "https://localhost:8080/",
          "height": 585
        },
        "trusted": true
      },
      "cell_type": "code",
      "source": "weekNum = ['one', 'two', 'three', 'four']\nweekLabel = ['A)', 'B)', 'C)', 'D)']\ncsfont = {'fontname': 'Times New Roman'}\n#fig = plt.subplots(2,2, figsize=(10,10))\nfig = plt.figure(figsize=(20,4))\nfor seq1 in range(4):\n    X = final_result[seq1, 0,38:]\n    Y1 = dataset[(len(train)+look_back+seq1):(len(dataset)-n_seq+seq1-1),0]\n    Y = Y1[38:]\n    RMSE = math.sqrt(mean_squared_error(X, Y))\n    Z = np.reshape(Y,(1,len(Y)))[0]\n    r,p = pearsonr(X,Z)\n    abs1 = np.abs(Y-X)\n    \n    sse = np.sum((Y-X)**2)\n    k = 10244\n    n = len(X)\n    AIC =  - 2*math.log(sse) #+ 2*k\n    BIC = n*math.log(sse/n) #+ k*math.log(n)\n    print('Test Score: RMSE=%.2f r=%.2f p=%.2f' % (RMSE, r**2, p))\n    weekStr = ' weeks'\n    if seq1 ==0 :\n        weekStr = ' week'\n    ax= fig.add_subplot(1, 4, seq1 + 1)\n    titleName = ''.join([weekLabel[seq1],' Predictions for ', weekNum[seq1], weekStr, ' ahead'])\n    if seq1 == 0:\n        xlabel = 'Predictions'\n    ylabel = 'Observations'\n    \n    plt.grid(True)\n    plt.rc('grid', linestyle=\"--\", color='lightgray')\n    plt.subplot(1, 4, seq1+1)\n    plt.plot(X,'-', markersize=8, color='red', linewidth=2.5, label= xlabel)\n    plt.plot(Y, marker='s', markerfacecolor='blue', markersize=7, color='skyblue', linewidth=0, label=ylabel)\n    plt.xlabel('Time[week]', fontsize=12, **csfont)\n    plt.ylabel('Number of Incidents', fontsize=12, **csfont)\n    plt.legend(loc='upper left')\n    plt.title(titleName, fontsize=13, **csfont)\n    \n    ax = plt.gca()\n    ax.xaxis.set_label_coords(.5, -0.07)\n    ax.yaxis.set_label_coords(-0.088, .5)\n\n\n\nplt.show()\nfig.savefig('./gdrive/My Drive/Colab Notebooks/Tensorflow/Iran/fig/inf_week.pdf', format='pdf', dpi=500)",
      "execution_count": null,
      "outputs": []
    },
    {
      "metadata": {
        "id": "Jz2JtRQWijRa",
        "colab_type": "code",
        "outputId": "97acbd4b-7dca-437b-e888-7add04b91c2d",
        "executionInfo": {
          "status": "ok",
          "timestamp": 1544880016654,
          "user_tz": -210,
          "elapsed": 4328,
          "user": {
            "displayName": "R. Azizi",
            "photoUrl": "",
            "userId": "15131496285985135984"
          }
        },
        "colab": {
          "base_uri": "https://localhost:8080/",
          "height": 539
        },
        "trusted": true
      },
      "cell_type": "code",
      "source": "csfont = {'fontname': 'Times New Roman'}\n\nnWeek = 0\nN = testScore.shape[1]\nnp.random.seed(19680801)\ndef get_cmap(n, name='hsv'):\n    return plt.cm.get_cmap(name, n)\n\ncmap = get_cmap(N)\ncolors = (30 * np.random.rand(N)) ** 2\n\narea = np.ones(N) * 50\nfor i in range(N):\n    if ((testScore[nWeek, i] < 11.5) & (testPearsonr[nWeek, i] > 0.90)):\n        area[i] = 300\n        \narea[0] = 300\n\nplt.figure(figsize=(10,8))\nfig, ax = plt.subplots(figsize=(10,8))\ndata = [testPearsonr[nWeek,:], testScore[nWeek,:]]\n#for i in range(N):\n#    ax.scatter(testPearsonr[nWeek,i], testScore[nWeek,i], s=area[i], c=cmap(i))\nax.scatter(testPearsonr[nWeek,:], testScore[nWeek,:], s=area, c=colors)\nplt.xlabel(\"Pearson\", fontsize=15, **csfont)\nplt.ylabel(\"RMSE\", fontsize=15, **csfont)\nplt.xlim([.65, 1])\nplt.ylim([0,40])\n\nbList = np.where((testScore[nWeek, :] < 11.5) & (testPearsonr[nWeek, :] > 0.90))[0]\naList = bList.tolist()\n\nls = [x for x in aList]\n[perm_list[x] for x in ls]\n\nNtxt = len(aList)\ntxt = []\nfor i in range(Ntxt):\n    txt.append('A' + str(i+1))\n\nfrom matplotlib.patches import Ellipse\ne1 = Ellipse((2, -1), 0.5, 0.5)\nxyCoord = [[80, 40], [-100, -50], [150, 10],[-100, -80]]\nax.annotate(r'$'+'Model' + str(perm_list[0]).replace(\"[\",\"(\").replace(\"]\",\")\")+'$', xy=(testPearsonr[nWeek,0], testScore[nWeek,0]),\n            xytext=(-35,-40), \n            textcoords='offset points', ha='center', va='bottom', color='b',\n            bbox=dict(boxstyle='round, pad=0.2', fc='.8', alpha=0.3),\n            arrowprops=dict(arrowstyle='simple',\n                                fc='0.6', ec='none', \n                                patchB=e1,\n                                connectionstyle='arc3, rad=-0.0'),\n                fontsize=15, **csfont)\n\nfor i, txt in enumerate(txt):\n    ax.annotate(r'$'+'Model'+str(perm_list[aList[i]]).replace(\"[\",\"(\").replace(\"]\",\")\")\n                +'$', (testPearsonr[nWeek,bList[i]], testScore[nWeek,bList[i]]), \n                xytext=tuple(xyCoord[i]), \n                textcoords='offset points', ha='center', va='bottom', color='b',\n                bbox=dict(boxstyle='round, pad=0.2', fc='.8', alpha=0.3),\n                arrowprops=dict(arrowstyle='simple',\n                                fc='0.6', ec='none', \n                                patchB=e1,\n                                connectionstyle='arc3, rad=-0.1'),\n                fontsize=15, **csfont)\n    \ntextstr = '\\n'.join(\n    (r'   $Week=1$   ',\n     r'   $r^2 > 0.90$   ',\n     r'    $RMSE < 11$    ')\n)\nprops = dict(boxstyle='round', fc='wheat', alpha=0.5)\nax.text(0.77, 0.95, textstr, transform=ax.transAxes, fontsize=14,\n       verticalalignment='top', bbox=props)\nplt.title(\"Model Comparison for Week 1\", fontsize=18, **csfont)\nfig.savefig('./gdrive/My Drive/Colab Notebooks/Tensorflow/Iran/fig/plot_week1.pdf', format='pdf', dpi=500, bbox_inches=\"tight\")",
      "execution_count": null,
      "outputs": []
    },
    {
      "metadata": {
        "id": "kXMIoW57ijRj",
        "colab_type": "code",
        "outputId": "05e0180a-6a40-4f38-d2b7-70ede871764b",
        "executionInfo": {
          "status": "ok",
          "timestamp": 1544880055820,
          "user_tz": -210,
          "elapsed": 4044,
          "user": {
            "displayName": "R. Azizi",
            "photoUrl": "",
            "userId": "15131496285985135984"
          }
        },
        "colab": {
          "base_uri": "https://localhost:8080/",
          "height": 539
        },
        "trusted": true
      },
      "cell_type": "code",
      "source": "csfont = {'fontname': 'Times New Roman'}\n\nnWeek = 1\nN = testScore.shape[1]\nnp.random.seed(19680801)\ndef get_cmap(n, name='hsv'):\n    return plt.cm.get_cmap(name, n)\n\ncmap = get_cmap(N)\ncolors = (30 * np.random.rand(N)) ** 2\n\narea = np.ones(N) * 50\nfor i in range(N):\n    if ((testScore[nWeek, i] < 13.9) & (testPearsonr[nWeek, i] > 0.85)):\n        area[i] = 300\n        \narea[0] = 300\n\nplt.figure(figsize=(10,8))\nfig, ax = plt.subplots(figsize=(10,8))\ndata = [testPearsonr[nWeek,:], testScore[nWeek,:]]\n#for i in range(N):\n#    ax.scatter(testPearsonr[nWeek,i], testScore[nWeek,i], s=area[i], c=cmap(i))\nax.scatter(testPearsonr[nWeek,:], testScore[nWeek,:], s=area, c=colors)\nplt.xlabel(\"Pearson\", fontsize=15, **csfont)\nplt.ylabel(\"RMSE\", fontsize=15, **csfont)\nplt.xlim([.5, 1])\nplt.ylim([0,40])\n\nbList = np.where((testScore[nWeek, :] < 13.9) & (testPearsonr[nWeek, :] > 0.85))[0]\naList = bList.tolist()\n\nls = [x for x in aList]\n[perm_list[x] for x in ls]\n\nNtxt = len(aList)\ntxt = []\nfor i in range(Ntxt):\n    txt.append('A' + str(i+1))\n\nfrom matplotlib.patches import Ellipse\ne1 = Ellipse((2, -1), 0.5, 0.5)\nxyCoord = [[80, 40], [-100, -50], [150, 10],[-100, -80]]\nax.annotate(r'$'+'Model' + str(perm_list[0]).replace(\"[\",\"(\").replace(\"]\",\")\")+'$', xy=(testPearsonr[nWeek,0], testScore[nWeek,0]),\n            xytext=(-35,-40), \n            textcoords='offset points', ha='center', va='bottom', color='b',\n            bbox=dict(boxstyle='round, pad=0.2', fc='.8', alpha=0.3),\n            arrowprops=dict(arrowstyle='simple',\n                                fc='0.6', ec='none', \n                                patchB=e1,\n                                connectionstyle='arc3, rad=-0.0'),\n                fontsize=15, **csfont)\n\nfor i, txt in enumerate(txt):\n    ax.annotate(r'$'+'Model'+str(perm_list[aList[i]]).replace(\"[\",\"(\").replace(\"]\",\")\")\n                +'$', (testPearsonr[nWeek,bList[i]], testScore[nWeek,bList[i]]), \n                xytext=tuple(xyCoord[i]), \n                textcoords='offset points', ha='center', va='bottom', color='b',\n                bbox=dict(boxstyle='round, pad=0.2', fc='.8', alpha=0.3),\n                arrowprops=dict(arrowstyle='simple',\n                                fc='0.6', ec='none', \n                                patchB=e1,\n                                connectionstyle='arc3, rad=-0.1'),\n                fontsize=15, **csfont)\n    \ntextstr = '\\n'.join(\n    (r'   $Week=2$   ',\n     r'   $r^2 > 0.85$   ',\n     r'    $RMSE < 13.9$    ')\n)\nprops = dict(boxstyle='round', fc='wheat', alpha=0.5)\nax.text(0.77, 0.95, textstr, transform=ax.transAxes, fontsize=14,\n       verticalalignment='top', bbox=props)\nplt.title(\"Model Comparison for Week 2\", fontsize=18, **csfont)\nfig.savefig('./gdrive/My Drive/Colab Notebooks/Tensorflow/Iran/fig/plot_week2.pdf', format='pdf', dpi=500, bbox_inches=\"tight\")",
      "execution_count": null,
      "outputs": []
    },
    {
      "metadata": {
        "id": "Kz4XkB67ijRr",
        "colab_type": "code",
        "outputId": "8877c3b3-fa33-4055-8a09-b559b40d7c41",
        "executionInfo": {
          "status": "ok",
          "timestamp": 1544880079346,
          "user_tz": -210,
          "elapsed": 4374,
          "user": {
            "displayName": "R. Azizi",
            "photoUrl": "",
            "userId": "15131496285985135984"
          }
        },
        "colab": {
          "base_uri": "https://localhost:8080/",
          "height": 539
        },
        "trusted": true
      },
      "cell_type": "code",
      "source": "csfont = {'fontname': 'Times New Roman'}\n\nnWeek = 2\nN = testScore.shape[1]\nnp.random.seed(19680801)\ndef get_cmap(n, name='hsv'):\n    return plt.cm.get_cmap(name, n)\n\ncmap = get_cmap(N)\ncolors = (30 * np.random.rand(N)) ** 2\n\narea = np.ones(N) * 50\nfor i in range(N):\n    if ((testScore[nWeek, i] < 13.4) & (testPearsonr[nWeek, i] > 0.90)):\n        area[i] = 300\n        \narea[0] = 300\n\nplt.figure(figsize=(10,8))\nfig, ax = plt.subplots(figsize=(10,8))\ndata = [testPearsonr[nWeek,:], testScore[nWeek,:]]\n#for i in range(N):\n#    ax.scatter(testPearsonr[nWeek,i], testScore[nWeek,i], s=area[i], c=cmap(i))\nax.scatter(testPearsonr[nWeek,:], testScore[nWeek,:], s=area, c=colors)\nplt.xlabel(\"Pearson\", fontsize=15, **csfont)\nplt.ylabel(\"RMSE\", fontsize=15, **csfont)\nplt.xlim([.6, 1])\nplt.ylim([0,40])\n\nbList = np.where((testScore[nWeek, :] < 13.4) & (testPearsonr[nWeek, :] > 0.90))[0]\naList = bList.tolist()\n\nls = [x for x in aList]\n[perm_list[x] for x in ls]\n\nNtxt = len(aList)\ntxt = []\nfor i in range(Ntxt):\n    txt.append('A' + str(i+1))\n\nfrom matplotlib.patches import Ellipse\ne1 = Ellipse((2, -1), 0.5, 0.5)\nxyCoord = [[80, 40], [-100, -50], [150, 10],[-100, -80]]\nax.annotate(r'$'+'Model' + str(perm_list[0]).replace(\"[\",\"(\").replace(\"]\",\")\")+'$', xy=(testPearsonr[nWeek,0], testScore[nWeek,0]),\n            xytext=(-35,-40), \n            textcoords='offset points', ha='center', va='bottom', color='b',\n            bbox=dict(boxstyle='round, pad=0.2', fc='.8', alpha=0.3),\n            arrowprops=dict(arrowstyle='simple',\n                                fc='0.6', ec='none', \n                                patchB=e1,\n                                connectionstyle='arc3, rad=-0.0'),\n                fontsize=15, **csfont)\n\nfor i, txt in enumerate(txt):\n    ax.annotate(r'$'+'Model'+str(perm_list[aList[i]]).replace(\"[\",\"(\").replace(\"]\",\")\")\n                +'$', (testPearsonr[nWeek,bList[i]], testScore[nWeek,bList[i]]), \n                xytext=tuple(xyCoord[i]), \n                textcoords='offset points', ha='center', va='bottom', color='b',\n                bbox=dict(boxstyle='round, pad=0.2', fc='.8', alpha=0.3),\n                arrowprops=dict(arrowstyle='simple',\n                                fc='0.6', ec='none', \n                                patchB=e1,\n                                connectionstyle='arc3, rad=-0.1'),\n                fontsize=15, **csfont)\n    \ntextstr = '\\n'.join(\n    (r'   $Week=3$   ',\n     r'   $r^2 > 0.90$   ',\n     r'    $RMSE < 13.4$    ')\n)\nprops = dict(boxstyle='round', fc='wheat', alpha=0.5)\nax.text(0.77, 0.95, textstr, transform=ax.transAxes, fontsize=14,\n       verticalalignment='top', bbox=props)\nplt.title(\"Model Comparison for Week 3\", fontsize=18, **csfont)\nfig.savefig('./gdrive/My Drive/Colab Notebooks/Tensorflow/Iran/fig/plot_week3.pdf', format='pdf', dpi=500, bbox_inches=\"tight\")",
      "execution_count": null,
      "outputs": []
    },
    {
      "metadata": {
        "id": "YedrJeAfijR0",
        "colab_type": "code",
        "outputId": "48fd09f6-b46d-4491-dd96-2ab09aaf86e6",
        "executionInfo": {
          "status": "ok",
          "timestamp": 1544880100273,
          "user_tz": -210,
          "elapsed": 4739,
          "user": {
            "displayName": "R. Azizi",
            "photoUrl": "",
            "userId": "15131496285985135984"
          }
        },
        "colab": {
          "base_uri": "https://localhost:8080/",
          "height": 539
        },
        "trusted": true
      },
      "cell_type": "code",
      "source": "csfont = {'fontname': 'Times New Roman'}\n\nnWeek = 3\nN = testScore.shape[1]\nnp.random.seed(19680801)\ndef get_cmap(n, name='hsv'):\n    return plt.cm.get_cmap(name, n)\n\ncmap = get_cmap(N)\ncolors = (30 * np.random.rand(N)) ** 2\n\narea = np.ones(N) * 50\nfor i in range(N):\n    if ((testScore[nWeek, i] < 14.2) & (testPearsonr[nWeek, i] > 0.90)):\n        area[i] = 300\n        \narea[0] = 300\n\nplt.figure(figsize=(10,8))\nfig, ax = plt.subplots(figsize=(10,8))\ndata = [testPearsonr[nWeek,:], testScore[nWeek,:]]\n#for i in range(N):\n#    ax.scatter(testPearsonr[nWeek,i], testScore[nWeek,i], s=area[i], c=cmap(i))\nax.scatter(testPearsonr[nWeek,:], testScore[nWeek,:], s=area, c=colors)\nplt.xlabel(\"Pearson\", fontsize=15, **csfont)\nplt.ylabel(\"RMSE\", fontsize=15, **csfont)\nplt.xlim([.5, 1])\nplt.ylim([0,40])\n\nbList = np.where((testScore[nWeek, :] < 14.2) & (testPearsonr[nWeek, :] > 0.90))[0]\naList = bList.tolist()\n\nls = [x for x in aList]\n[perm_list[x] for x in ls]\n\nNtxt = len(aList)\ntxt = []\nfor i in range(Ntxt):\n    txt.append('A' + str(i+1))\n\nfrom matplotlib.patches import Ellipse\ne1 = Ellipse((2, -1), 0.5, 0.5)\n\nxyCoord = [[80, 40], [-60, -50], [70, 60],[-100, -40]]\nax.annotate(r'$'+'Model' + str(perm_list[0]).replace(\"[\",\"(\").replace(\"]\",\")\")+'$', xy=(testPearsonr[nWeek,0], testScore[nWeek,0]),\n            xytext=(-35,-40), \n            textcoords='offset points', ha='center', va='bottom', color='b',\n            bbox=dict(boxstyle='round, pad=0.2', fc='.8', alpha=0.3),\n            arrowprops=dict(arrowstyle='simple',\n                                fc='0.6', ec='none', \n                                patchB=e1,\n                                connectionstyle='arc3, rad=-0.0'),\n                fontsize=15, **csfont)\n\nfor i, txt in enumerate(txt):\n    ax.annotate(r'$'+'Model'+str(perm_list[aList[i]]).replace(\"[\",\"(\").replace(\"]\",\")\")\n                +'$', (testPearsonr[nWeek,bList[i]], testScore[nWeek,bList[i]]), \n                xytext=tuple(xyCoord[i]), \n                textcoords='offset points', ha='center', va='bottom', color='b',\n                bbox=dict(boxstyle='round, pad=0.2', fc='.8', alpha=0.3),\n                arrowprops=dict(arrowstyle='simple',\n                                fc='0.6', ec='none', \n                                patchB=e1,\n                                connectionstyle='arc3, rad=-0.1'),\n                fontsize=15, **csfont)\n    \ntextstr = '\\n'.join(\n    (r'   $Week=4$   ',\n     r'   $r^2 > 0.90$   ',\n     r'    $RMSE < 14.2$    ')\n)\nprops = dict(boxstyle='round', fc='wheat', alpha=0.5)\nax.text(0.77, 0.95, textstr, transform=ax.transAxes, fontsize=14,\n       verticalalignment='top', bbox=props)\nplt.title(\"Model Comparison for Week 4\", fontsize=18, **csfont)\nfig.savefig('./gdrive/My Drive/Colab Notebooks/Tensorflow/Iran/fig/plot_week4.pdf', format='pdf', dpi=500, bbox_inches=\"tight\")",
      "execution_count": null,
      "outputs": []
    },
    {
      "metadata": {
        "id": "0VRepDBzijR_",
        "colab_type": "code",
        "outputId": "16563975-c40f-4c38-8b83-442615556907",
        "colab": {},
        "trusted": true
      },
      "cell_type": "code",
      "source": "testScore",
      "execution_count": null,
      "outputs": []
    },
    {
      "metadata": {
        "id": "_wb1J50DijSI",
        "colab_type": "code",
        "outputId": "4b8b0875-e42e-4294-a361-06f7911bdbf4",
        "executionInfo": {
          "status": "ok",
          "timestamp": 1544889747576,
          "user_tz": 300,
          "elapsed": 1664,
          "user": {
            "displayName": "R. Azizi",
            "photoUrl": "",
            "userId": "15131496285985135984"
          }
        },
        "colab": {
          "base_uri": "https://localhost:8080/",
          "height": 637
        },
        "trusted": true
      },
      "cell_type": "code",
      "source": "X0 = np.arange(len(perm_list))\nX1 = testScore\nZ0 = np.ones((len(perm_list),1)) * 15.0\nmins = X1.min(0)\nmaxs = X1.max(0)\nmeans = X1.mean(0)\nstd = X1.std(0)\nind = X0#np.argsort(means)\n\nind = np.argsort(means)\nmeans[ind_mean]\n\nb = np.where(means[ind_mean] < 15.5)[0]\na = b.tolist()\n\nls = [x for x in a]\n[(perm_list[ind_mean[x]], means[ind_mean][x]) for x in ls]\n\nxlabel_list = [perm_list[ind_mean[x]] for x in ls]\nxLabels = ['%s' % i for i in xlabel_list ]\n\nyerr_upper = std[ind_mean]\nyerr_lower = np.zeros(len(yerr_upper))\ncsfont = {'fontname': 'Times New Roman'}\nfig = plt.figure(figsize=(10,8))\nplt.bar(X0, means[ind], width=0.7, color='0.5', edgecolor='k', yerr=[yerr_lower, yerr_upper], linewidth=2, capsize=10)\n\nplt.xlim((-1,10+.5))\nplt.ylim(10,20)\nplt.xticks(range(len(b)), xLabels, rotation=45, ha='right', fontsize=15, **csfont)\nplt.ylabel('RMSE', fontsize=15, **csfont)\nax = plt.gca()\n#ax.yaxis.set_label_coords(-.065, .5)\nplt.show()\nfig.savefig('./gdrive/My Drive/Colab Notebooks/Tensorflow/Iran/fig/hist_mean.pdf', format='pdf', dpi=100, bbox_inches=\"tight\")",
      "execution_count": null,
      "outputs": []
    },
    {
      "metadata": {
        "id": "r0wo8pZwijSR",
        "colab_type": "code",
        "colab": {},
        "trusted": true
      },
      "cell_type": "code",
      "source": "param_list = ['shum', 'evap', 'tmp', 'tmin', 'tmax', 'cloud', 'wind', 'dswrf', 'prate']\nhist_mean = np.zeros((130, 9))\nhist_week1 = np.zeros((130, 9))\nhist_week2 = np.zeros((130, 9))\nhist_week3 = np.zeros((130, 9))\nhist_week4 = np.zeros((130, 9))\n\nfor T in range(130):\n    for i in range(T):\n        for j in range(9):\n            if param_list[j] in model_mean[i][0]:\n                hist_mean[T,j] = hist_mean[T,j] + 1\n                \n            if param_list[j] in model_week1[i][0]:\n                hist_week1[T,j] = hist_week1[T,j] + 1\n                \n            if param_list[j] in model_week2[i][0]:\n                hist_week2[T,j] = hist_week2[T,j] + 1\n                \n            if param_list[j] in model_week3[i][0]:\n                hist_week3[T,j] = hist_week3[T,j] + 1\n            \n            if param_list[j] in model_week4[i][0]:\n                hist_week4[T,j] = hist_week4[T,j] + 1",
      "execution_count": null,
      "outputs": []
    },
    {
      "metadata": {
        "id": "TYnXgC_UijSW",
        "colab_type": "code",
        "outputId": "5c8581bc-5607-41eb-bf74-076e72b096f5",
        "executionInfo": {
          "status": "ok",
          "timestamp": 1544889798967,
          "user_tz": 300,
          "elapsed": 4303,
          "user": {
            "displayName": "R. Azizi",
            "photoUrl": "",
            "userId": "15131496285985135984"
          }
        },
        "colab": {
          "base_uri": "https://localhost:8080/",
          "height": 532
        },
        "trusted": true
      },
      "cell_type": "code",
      "source": "csfont = {'fontname': 'Times New Roman'}\n\nModel_Num = [5, 10, 20, 30, 5, 10, 20, 30, 5, 10, 20, 30, 5, 10, 20, 30, 5, 10, 20, 30]\n\nplt.figure(figsize=(10,8))\nfig, ax = plt.subplots(figsize=(10,8))\n\nfor i in range(4):\n    plt.subplot(5, 4, i+1)\n    plt.bar(range(9), hist_mean[Model_Num[i],:], width=0.7, color='0.5', edgecolor='k')\n    #ax.xaxis.label.set_visible(False)\n    plt.xticks(range(9), [], rotation=45, ha='right', fontsize=15, **csfont)\n    plt.ylim([0,Model_Num[i]])\n\n    plt.subplot(5, 4, i+5)\n    plt.bar(range(9), hist_week1[Model_Num[i],:], width=0.7, color='0.5', edgecolor='k')\n    plt.xticks(range(9), [], rotation=45, ha='right', fontsize=15, **csfont)\n    plt.ylim([0,Model_Num[i]])\n\n    plt.subplot(5, 4, i+9)\n    plt.bar(range(9), hist_week2[Model_Num[i],:], width=0.7, color='0.5', edgecolor='k')\n    plt.xticks(range(9), [], rotation=45, ha='right', fontsize=15, **csfont)\n    plt.ylim([0,Model_Num[i]])\n\n    plt.subplot(5, 4, i+13)\n    plt.bar(range(9), hist_week3[Model_Num[i],:], width=0.7, color='0.5', edgecolor='k')\n    plt.xticks(range(9), [], rotation=45, ha='right', fontsize=15, **csfont)\n    plt.ylim([0,Model_Num[i]])\n\n    plt.subplot(5, 4, i+17)\n    plt.bar(range(9), hist_week4[Model_Num[i],:], width=0.7, color='0.5', edgecolor='k')\n    plt.xticks(range(9), param_list, rotation=75, ha='center', fontsize=13, **csfont)\n    plt.ylim([0,Model_Num[i]])\n\nfig.savefig('./gdrive/My Drive/Colab Notebooks/Tensorflow/Iran/fig/hist_variables.pdf', format='pdf', dpi=100, bbox_inches=\"tight\")",
      "execution_count": null,
      "outputs": []
    },
    {
      "metadata": {
        "id": "-WyGrYjvijSf",
        "colab_type": "code",
        "outputId": "60d89963-4ec7-43c0-ee2b-7ddb21a440f2",
        "colab": {},
        "trusted": true
      },
      "cell_type": "code",
      "source": "plt.plot(hist_mean[:,0:10])\nplt.legend(param_list[0:10])",
      "execution_count": null,
      "outputs": []
    },
    {
      "metadata": {
        "id": "Xt75fYZSijS1",
        "colab_type": "code",
        "outputId": "b773eb52-56cd-4cc4-91ae-f2b19516850f",
        "colab": {},
        "trusted": true
      },
      "cell_type": "code",
      "source": "model_mean",
      "execution_count": null,
      "outputs": []
    },
    {
      "metadata": {
        "id": "xCJ2JKdYijTD",
        "colab_type": "code",
        "outputId": "edda8987-a6d4-457b-9dd9-c7b9beedbcae",
        "colab": {},
        "trusted": true
      },
      "cell_type": "code",
      "source": "a = [2, 10, 2, 45, 6]\nb = [1, 3, 4, 78, 1]\npearsonr(a,b)",
      "execution_count": null,
      "outputs": []
    },
    {
      "metadata": {
        "id": "KnROAr1VijTX",
        "colab_type": "code",
        "colab": {},
        "trusted": true
      },
      "cell_type": "code",
      "source": "from scipy import stats\ns, i, r, p, std = stats.linregress(a,b)",
      "execution_count": null,
      "outputs": []
    },
    {
      "metadata": {
        "id": "VqmTg8vgijTf",
        "colab_type": "code",
        "outputId": "84046be1-2485-403c-fd07-8a414ff80d04",
        "colab": {},
        "trusted": true
      },
      "cell_type": "code",
      "source": "r**2",
      "execution_count": null,
      "outputs": []
    },
    {
      "metadata": {
        "id": "0EdgE21rijTq",
        "colab_type": "code",
        "outputId": "a6cc4d89-8df5-4d2d-c7cd-d114baf74f61",
        "colab": {},
        "trusted": true
      },
      "cell_type": "code",
      "source": "p",
      "execution_count": null,
      "outputs": []
    },
    {
      "metadata": {
        "id": "iy9dugQMijTx",
        "colab_type": "code",
        "outputId": "a94dbd96-8650-4959-c184-8800101fb498",
        "colab": {},
        "trusted": true
      },
      "cell_type": "code",
      "source": "r2_score(X,Y)",
      "execution_count": null,
      "outputs": []
    },
    {
      "metadata": {
        "id": "Z3-iZ7F8ijT_",
        "colab_type": "code",
        "outputId": "ee980173-96da-433e-ab81-a079f5a2f5c1",
        "colab": {},
        "trusted": true
      },
      "cell_type": "code",
      "source": "bList = np.where((testScore[3, :] < 14) & (testPearsonr[3, :] > 0.80))[0]\nbList",
      "execution_count": null,
      "outputs": []
    },
    {
      "metadata": {
        "id": "gESooGiNijUM",
        "colab_type": "code",
        "colab": {},
        "trusted": true
      },
      "cell_type": "code",
      "source": "X = final_result[seq1,0,40:]",
      "execution_count": null,
      "outputs": []
    },
    {
      "metadata": {
        "id": "pAqLEzf7ijUR",
        "colab_type": "code",
        "colab": {},
        "trusted": true
      },
      "cell_type": "code",
      "source": "Y1 = dataset[(len(train)+4+0):(len(dataset)-4+0-1),0]",
      "execution_count": null,
      "outputs": []
    },
    {
      "metadata": {
        "id": "3nih9HvWijUd",
        "colab_type": "code",
        "outputId": "90d40769-14a7-4945-b46d-43b26237240e",
        "executionInfo": {
          "status": "ok",
          "timestamp": 1555175248076,
          "user_tz": -270,
          "elapsed": 2021,
          "user": {
            "displayName": "R. Azizi",
            "photoUrl": "",
            "userId": "15131496285985135984"
          }
        },
        "colab": {
          "base_uri": "https://localhost:8080/",
          "height": 34
        },
        "trusted": true
      },
      "cell_type": "code",
      "source": "ind_week1[1]",
      "execution_count": null,
      "outputs": []
    },
    {
      "metadata": {
        "id": "8x1XUv-sijUk",
        "colab_type": "code",
        "outputId": "350ee251-d128-4db2-ec53-c5b6580a22e2",
        "colab": {},
        "trusted": true
      },
      "cell_type": "code",
      "source": "bList = np.where((testScore[3, :] < 14.2) & (testPearsonr[3, :] > 0.90))[0]\nbList",
      "execution_count": null,
      "outputs": []
    },
    {
      "metadata": {
        "id": "-JE5FHsDijUr",
        "colab_type": "code",
        "outputId": "95bfbe56-e0b7-4f5b-c4a7-2282bc98fef7",
        "colab": {},
        "trusted": true
      },
      "cell_type": "code",
      "source": "testScore[nWeek, :]",
      "execution_count": null,
      "outputs": []
    },
    {
      "metadata": {
        "id": "xSjbXP6vijUx",
        "colab_type": "code",
        "colab": {},
        "trusted": true
      },
      "cell_type": "code",
      "source": "",
      "execution_count": null,
      "outputs": []
    }
  ],
  "metadata": {
    "colab": {
      "name": "Fig_02.ipynb",
      "version": "0.3.2",
      "provenance": [],
      "collapsed_sections": []
    },
    "kernelspec": {
      "name": "python3",
      "display_name": "Python 3",
      "language": "python"
    },
    "language_info": {
      "mimetype": "text/x-python",
      "nbconvert_exporter": "python",
      "name": "python",
      "pygments_lexer": "ipython3",
      "version": "3.5.4",
      "file_extension": ".py",
      "codemirror_mode": {
        "version": 3,
        "name": "ipython"
      }
    }
  },
  "nbformat": 4,
  "nbformat_minor": 1
}